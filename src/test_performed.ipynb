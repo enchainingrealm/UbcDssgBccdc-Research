{
 "cells": [
  {
   "cell_type": "code",
   "execution_count": 1,
   "metadata": {},
   "outputs": [],
   "source": [
    "import matplotlib.pyplot as plt\n",
    "import pandas as pd\n",
    "\n",
    "from ipynb.fs.full.util import get_df_splits\n",
    "from ipynb.fs.full.util import get_feature_importances\n",
    "from ipynb.fs.full.util import get_feature_weights\n",
    "from ipynb.fs.full.util import run_classifier_cv\n",
    "from ipynb.fs.full.util import to_X_y\n",
    "from ipynb.fs.full.util import to_X_y_tt\n",
    "\n",
    "from sklearn.ensemble import RandomForestClassifier\n",
    "from sklearn.feature_extraction.text import CountVectorizer\n",
    "from sklearn.linear_model import LogisticRegression\n",
    "from sklearn.naive_bayes import MultinomialNB\n",
    "from sklearn.svm import LinearSVC"
   ]
  },
  {
   "cell_type": "code",
   "execution_count": 2,
   "metadata": {},
   "outputs": [],
   "source": [
    "pd.set_option(\"display.max_columns\", None)\n",
    "pd.set_option(\"display.max_colwidth\", 10000)\n",
    "pd.set_option(\"display.max_rows\", None)"
   ]
  },
  {
   "cell_type": "code",
   "execution_count": 3,
   "metadata": {},
   "outputs": [],
   "source": [
    "df = pd.read_csv(\"../data/dataset_cleaned.csv\", na_values=[\"_NULL_\"], keep_default_na=False)"
   ]
  },
  {
   "cell_type": "code",
   "execution_count": 4,
   "metadata": {},
   "outputs": [
    {
     "data": {
      "text/plain": [
       "(362588, 14)"
      ]
     },
     "metadata": {},
     "output_type": "display_data"
    }
   ],
   "source": [
    "df = df[\n",
    "    (df[\"test_performed\"] == \"yes\") | (df[\"test_performed\"] == \"no\")\n",
    "]\n",
    "display(df.shape)"
   ]
  },
  {
   "cell_type": "code",
   "execution_count": 5,
   "metadata": {},
   "outputs": [],
   "source": [
    "df_splits = get_df_splits(df)\n",
    "\n",
    "X_y_splits = []\n",
    "for df_train, df_test in df_splits:\n",
    "    vectorizer = CountVectorizer(ngram_range=(1, 3), min_df=10)\n",
    "    X_train, X_test, y_train, y_test, _ = to_X_y_tt(vectorizer, df_train, df_test, \"test_performed\")\n",
    "    \n",
    "    X_y_splits.append((X_train, X_test, y_train, y_test, df_test))"
   ]
  },
  {
   "cell_type": "code",
   "execution_count": 6,
   "metadata": {},
   "outputs": [
    {
     "data": {
      "text/plain": [
       "'Classifier 1'"
      ]
     },
     "metadata": {},
     "output_type": "display_data"
    },
    {
     "data": {
      "text/plain": [
       "0.9396036295593404"
      ]
     },
     "metadata": {},
     "output_type": "display_data"
    },
    {
     "data": {
      "text/plain": [
       "array([[321059,  19415],\n",
       "       [  2484,  19630]])"
      ]
     },
     "metadata": {},
     "output_type": "display_data"
    },
    {
     "data": {
      "text/plain": [
       "array([0.9923225 , 0.50275323])"
      ]
     },
     "metadata": {},
     "output_type": "display_data"
    },
    {
     "data": {
      "text/plain": [
       "array([0.94297656, 0.88767297])"
      ]
     },
     "metadata": {},
     "output_type": "display_data"
    },
    {
     "data": {
      "text/plain": [
       "'Classifier 2'"
      ]
     },
     "metadata": {},
     "output_type": "display_data"
    },
    {
     "data": {
      "text/plain": [
       "0.9858268897415938"
      ]
     },
     "metadata": {},
     "output_type": "display_data"
    },
    {
     "data": {
      "text/plain": [
       "array([[339011,   1463],\n",
       "       [  3676,  18438]])"
      ]
     },
     "metadata": {},
     "output_type": "display_data"
    },
    {
     "data": {
      "text/plain": [
       "array([0.98927301, 0.92648611])"
      ]
     },
     "metadata": {},
     "output_type": "display_data"
    },
    {
     "data": {
      "text/plain": [
       "array([0.99570305, 0.83377046])"
      ]
     },
     "metadata": {},
     "output_type": "display_data"
    },
    {
     "data": {
      "text/plain": [
       "'Classifier 3'"
      ]
     },
     "metadata": {},
     "output_type": "display_data"
    },
    {
     "data": {
      "text/plain": [
       "0.9860033985938699"
      ]
     },
     "metadata": {},
     "output_type": "display_data"
    },
    {
     "data": {
      "text/plain": [
       "array([[338554,   1920],\n",
       "       [  3155,  18959]])"
      ]
     },
     "metadata": {},
     "output_type": "display_data"
    },
    {
     "data": {
      "text/plain": [
       "array([0.990767  , 0.90804157])"
      ]
     },
     "metadata": {},
     "output_type": "display_data"
    },
    {
     "data": {
      "text/plain": [
       "array([0.9943608, 0.8573302])"
      ]
     },
     "metadata": {},
     "output_type": "display_data"
    },
    {
     "name": "stderr",
     "output_type": "stream",
     "text": [
      "C:\\Users\\william.lu\\AppData\\Roaming\\Python\\Python36\\site-packages\\sklearn\\svm\\base.py:931: ConvergenceWarning: Liblinear failed to converge, increase the number of iterations.\n",
      "  \"the number of iterations.\", ConvergenceWarning)\n"
     ]
    },
    {
     "data": {
      "text/plain": [
       "'Classifier 4'"
      ]
     },
     "metadata": {},
     "output_type": "display_data"
    },
    {
     "data": {
      "text/plain": [
       "0.9853828590093905"
      ]
     },
     "metadata": {},
     "output_type": "display_data"
    },
    {
     "data": {
      "text/plain": [
       "array([[338581,   1893],\n",
       "       [  3407,  18707]])"
      ]
     },
     "metadata": {},
     "output_type": "display_data"
    },
    {
     "data": {
      "text/plain": [
       "array([0.99003766, 0.9081068 ])"
      ]
     },
     "metadata": {},
     "output_type": "display_data"
    },
    {
     "data": {
      "text/plain": [
       "array([0.9944401, 0.8459347])"
      ]
     },
     "metadata": {},
     "output_type": "display_data"
    },
    {
     "data": {
      "text/plain": [
       "'Classifier 5'"
      ]
     },
     "metadata": {},
     "output_type": "display_data"
    },
    {
     "data": {
      "text/plain": [
       "0.9641300873587673"
      ]
     },
     "metadata": {},
     "output_type": "display_data"
    },
    {
     "data": {
      "text/plain": [
       "array([[329440,  11034],\n",
       "       [  1972,  20142]])"
      ]
     },
     "metadata": {},
     "output_type": "display_data"
    },
    {
     "data": {
      "text/plain": [
       "array([0.9940497, 0.6460739])"
      ]
     },
     "metadata": {},
     "output_type": "display_data"
    },
    {
     "data": {
      "text/plain": [
       "array([0.96759224, 0.91082572])"
      ]
     },
     "metadata": {},
     "output_type": "display_data"
    }
   ],
   "source": [
    "classifier_factories = [\n",
    "    MultinomialNB,\n",
    "    lambda: LogisticRegression(solver=\"lbfgs\", max_iter=1000),\n",
    "    lambda: RandomForestClassifier(n_estimators=100, n_jobs=-1, random_state=1731),\n",
    "    lambda: LinearSVC(random_state=1731, max_iter=10000),\n",
    "    lambda: LinearSVC(class_weight=\"balanced\", random_state=1731, max_iter=10000)\n",
    "]\n",
    "\n",
    "accuracies = []\n",
    "errors = []\n",
    "for index, classifier_factory in enumerate(classifier_factories):\n",
    "    accuracy, confusion, precision, recall, error = run_classifier_cv(classifier_factory, X_y_splits, [\"yes\", \"no\"])\n",
    "    accuracies.append(accuracy)\n",
    "    errors.append(error)\n",
    "    \n",
    "    display(f\"Classifier {index + 1}\")\n",
    "    display(accuracy)\n",
    "    display(confusion)\n",
    "    display(precision)\n",
    "    display(recall)"
   ]
  },
  {
   "cell_type": "code",
   "execution_count": 7,
   "metadata": {},
   "outputs": [
    {
     "data": {
      "image/png": "[encoded data removed]",
      "text/plain": [
       "<Figure size 432x288 with 1 Axes>"
      ]
     },
     "metadata": {
      "needs_background": "light"
     },
     "output_type": "display_data"
    }
   ],
   "source": [
    "X = [\"NB\", \"LR\", \"RF\", \"SVM\"]\n",
    "n = len(X)\n",
    "\n",
    "plt.bar(range(n), accuracies[:4], align=\"center\", color=\"orange\")\n",
    "\n",
    "plt.xticks(range(n), X)\n",
    "plt.ylim(0.9, 1)\n",
    "\n",
    "plt.xlabel(\"Classifier\")\n",
    "plt.ylabel(\"Accuracy\")\n",
    "plt.title(\"Test Performed - Classifier Accuracies\")\n",
    "\n",
    "plt.tight_layout()\n",
    "plt.savefig(\"../figs/tp_accuracies.png\")"
   ]
  },
  {
   "cell_type": "code",
   "execution_count": null,
   "metadata": {},
   "outputs": [],
   "source": [
    "errors[3]"
   ]
  },
  {
   "cell_type": "code",
   "execution_count": 9,
   "metadata": {},
   "outputs": [],
   "source": [
    "vectorizer = CountVectorizer(ngram_range=(1, 3), min_df=10)\n",
    "X, y, feature_names = to_X_y(vectorizer, df, \"test_performed\")\n",
    "\n",
    "classifier = LogisticRegression(solver=\"lbfgs\", max_iter=1000)\n",
    "classifier.fit(X, y)\n",
    "\n",
    "min_weights, max_weights = get_feature_weights(classifier, feature_names)"
   ]
  },
  {
   "cell_type": "code",
   "execution_count": 10,
   "metadata": {},
   "outputs": [
    {
     "data": {
      "image/png": "[encoded data removed]",
      "text/plain": [
       "<Figure size 540x540 with 1 Axes>"
      ]
     },
     "metadata": {
      "needs_background": "light"
     },
     "output_type": "display_data"
    }
   ],
   "source": [
    "plt.figure(figsize=(7.5, 7.5))\n",
    "\n",
    "m = len(min_weights)\n",
    "n = len(max_weights)\n",
    "\n",
    "y = [-x for x in range(m + n)]\n",
    "width = [x[1] for x in min_weights + max_weights]\n",
    "\n",
    "plt.barh(y[:m], width[:m], color=\"red\")\n",
    "plt.barh(y[m:], width[m:], color=\"blue\")\n",
    "\n",
    "feature_names = [x[0] for x in min_weights + max_weights]\n",
    "plt.xticks(fontsize=16)\n",
    "plt.yticks(y, feature_names, fontsize=16)\n",
    "\n",
    "plt.xlabel(\"Logistic regression weight\", fontsize=16)\n",
    "plt.ylabel(\"Feature\", fontsize=16)\n",
    "plt.title(\"Test Performed - Feature Weights (LR)\", fontsize=16)\n",
    "\n",
    "plt.tight_layout()\n",
    "plt.savefig(\"../figs/tp_lr_features.png\")"
   ]
  },
  {
   "cell_type": "code",
   "execution_count": 11,
   "metadata": {},
   "outputs": [],
   "source": [
    "vectorizer = CountVectorizer(ngram_range=(1, 3), min_df=10)\n",
    "X, y, feature_names = to_X_y(vectorizer, df, \"test_performed\")\n",
    "\n",
    "classifier = RandomForestClassifier(n_estimators=100, n_jobs=-1, random_state=1731)\n",
    "classifier.fit(X, y)\n",
    "\n",
    "feature_importances = get_feature_importances(classifier, feature_names)"
   ]
  },
  {
   "cell_type": "code",
   "execution_count": 12,
   "metadata": {},
   "outputs": [
    {
     "data": {
      "image/png": "[encoded data removed]",
      "text/plain": [
       "<Figure size 432x288 with 1 Axes>"
      ]
     },
     "metadata": {
      "needs_background": "light"
     },
     "output_type": "display_data"
    }
   ],
   "source": [
    "y = [-x for x in range(len(feature_importances))]\n",
    "width = [x[1] for x in feature_importances]\n",
    "\n",
    "plt.barh(y, width, color=\"green\")\n",
    "\n",
    "feature_names = [x[0] for x in feature_importances]\n",
    "plt.yticks(y, feature_names)\n",
    "\n",
    "plt.xlabel(\"Feature importance score\")\n",
    "plt.ylabel(\"Feature\")\n",
    "plt.title(\"Test Performed - 10 most important features (RF)\")\n",
    "\n",
    "plt.tight_layout()\n",
    "plt.savefig(\"../figs/tp_rf_features.png\")"
   ]
  },
  {
   "cell_type": "code",
   "execution_count": null,
   "metadata": {},
   "outputs": [],
   "source": []
  }
 ],
 "metadata": {
  "kernelspec": {
   "display_name": "Python 3",
   "language": "python",
   "name": "python3"
  },
  "language_info": {
   "codemirror_mode": {
    "name": "ipython",
    "version": 3
   },
   "file_extension": ".py",
   "mimetype": "text/x-python",
   "name": "python",
   "nbconvert_exporter": "python",
   "pygments_lexer": "ipython3",
   "version": "3.6.5"
  }
 },
 "nbformat": 4,
 "nbformat_minor": 2
}
