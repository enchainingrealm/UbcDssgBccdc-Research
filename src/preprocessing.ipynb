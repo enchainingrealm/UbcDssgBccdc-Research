{
 "cells": [
  {
   "cell_type": "code",
   "execution_count": 1,
   "metadata": {},
   "outputs": [],
   "source": [
    "import re\n",
    "\n",
    "import pandas as pd"
   ]
  },
  {
   "cell_type": "code",
   "execution_count": 2,
   "metadata": {},
   "outputs": [],
   "source": [
    "df = pd.read_csv(\"../data/dataset.csv\", na_values=[\"_NULL_\"], keep_default_na=False)"
   ]
  },
  {
   "cell_type": "code",
   "execution_count": 3,
   "metadata": {
    "scrolled": true
   },
   "outputs": [],
   "source": [
    "def remove_symbols(text):\n",
    "    if pd.isna(text):\n",
    "        return text\n",
    "    \n",
    "    return re.sub(r\"[^a-zA-Z0-9 |]\", \"\", text)\n",
    "\n",
    "df[\"result_full_description\"] = df[\"result_full_description\"].apply(remove_symbols)"
   ]
  },
  {
   "cell_type": "code",
   "execution_count": 4,
   "metadata": {},
   "outputs": [],
   "source": [
    "def replace_numbers(text):\n",
    "    if pd.isna(text):\n",
    "        return text\n",
    "    \n",
    "    raw_tokens = text.split()\n",
    "    tokens = [\n",
    "        \"_NUMBER_\" if all(char.isdigit() for char in token) else token\n",
    "        for token in raw_tokens\n",
    "    ]\n",
    "    return \" \".join(tokens)\n",
    "\n",
    "df[\"result_full_description\"] = df[\"result_full_description\"].apply(replace_numbers)"
   ]
  },
  {
   "cell_type": "code",
   "execution_count": 5,
   "metadata": {},
   "outputs": [],
   "source": [
    "def to_lower(text):\n",
    "    if pd.isna(text):\n",
    "        return text\n",
    "    \n",
    "    return text.lower()\n",
    "\n",
    "df[\"test_performed\"] = df[\"test_performed\"].apply(to_lower)\n",
    "df[\"test_outcome\"] = df[\"test_outcome\"].apply(to_lower)\n",
    "df[\"level_1\"] = df[\"level_1\"].apply(to_lower)\n",
    "df[\"level_2\"] = df[\"level_2\"].apply(to_lower)"
   ]
  },
  {
   "cell_type": "code",
   "execution_count": 6,
   "metadata": {},
   "outputs": [],
   "source": [
    "df.to_csv(\"../data/dataset_cleaned.csv\", na_rep=\"_NULL_\", index=False)"
   ]
  },
  {
   "cell_type": "code",
   "execution_count": null,
   "metadata": {},
   "outputs": [],
   "source": []
  }
 ],
 "metadata": {
  "kernelspec": {
   "display_name": "Python 3",
   "language": "python",
   "name": "python3"
  },
  "language_info": {
   "codemirror_mode": {
    "name": "ipython",
    "version": 3
   },
   "file_extension": ".py",
   "mimetype": "text/x-python",
   "name": "python",
   "nbconvert_exporter": "python",
   "pygments_lexer": "ipython3",
   "version": "3.6.5"
  }
 },
 "nbformat": 4,
 "nbformat_minor": 2
}
