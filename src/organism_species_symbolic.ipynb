{
 "cells": [
  {
   "cell_type": "code",
   "execution_count": 1,
   "metadata": {},
   "outputs": [],
   "source": [
    "import matplotlib.pyplot as plt\n",
    "import numpy as np\n",
    "import pandas as pd\n",
    "\n",
    "from ipynb.fs.full.util import get_one\n",
    "from ipynb.fs.full.util import load_candidates\n",
    "from ipynb.fs.full.util import to_X_y\n",
    "\n",
    "from sklearn.feature_extraction.text import CountVectorizer\n",
    "from sklearn.metrics import accuracy_score\n",
    "from sklearn.metrics import precision_score\n",
    "from sklearn.metrics import recall_score\n",
    "from sklearn.svm import LinearSVC"
   ]
  },
  {
   "cell_type": "code",
   "execution_count": 2,
   "metadata": {},
   "outputs": [],
   "source": [
    "df_result = pd.read_csv(\"../data/dataset_cleaned.csv\", na_values=[\"_NULL_\"], keep_default_na=False)\n",
    "df_metamap = pd.read_csv(\"../data/metamap.csv\", na_values=[\"_NULL_\"], keep_default_na=False)\n",
    "\n",
    "df = pd.merge(df_result, df_metamap, how=\"inner\", on=[\"test_key\", \"result_key\"])"
   ]
  },
  {
   "cell_type": "code",
   "execution_count": 3,
   "metadata": {},
   "outputs": [
    {
     "data": {
      "text/plain": [
       "(38370, 16)"
      ]
     },
     "metadata": {},
     "output_type": "display_data"
    }
   ],
   "source": [
    "df_organism_genus = df[\n",
    "    df[\"level_1\"].notna()\n",
    "    & (df[\"level_1\"] != \"*not in hierarchy\")\n",
    "    & (df[\"level_1\"] != \"*not in scope\")\n",
    "]\n",
    "\n",
    "display(df_organism_genus.shape)"
   ]
  },
  {
   "cell_type": "code",
   "execution_count": 4,
   "metadata": {},
   "outputs": [
    {
     "data": {
      "text/plain": [
       "(38370, 16)"
      ]
     },
     "metadata": {},
     "output_type": "display_data"
    }
   ],
   "source": [
    "df_organism_species = df[\n",
    "    df[\"level_1\"].notna()\n",
    "    & (df[\"level_1\"] != \"*not in hierarchy\")\n",
    "    & (df[\"level_1\"] != \"*not in scope\")\n",
    "    & df[\"level_2\"].notna()\n",
    "]\n",
    "\n",
    "display(df_organism_species.shape)"
   ]
  },
  {
   "cell_type": "code",
   "execution_count": 5,
   "metadata": {},
   "outputs": [
    {
     "name": "stderr",
     "output_type": "stream",
     "text": [
      "C:\\Users\\william.lu\\AppData\\Roaming\\Python\\Python36\\site-packages\\sklearn\\svm\\base.py:931: ConvergenceWarning: Liblinear failed to converge, increase the number of iterations.\n",
      "  \"the number of iterations.\", ConvergenceWarning)\n"
     ]
    },
    {
     "data": {
      "text/plain": [
       "LinearSVC(C=1.0, class_weight=None, dual=True, fit_intercept=True,\n",
       "     intercept_scaling=1, loss='squared_hinge', max_iter=10000,\n",
       "     multi_class='ovr', penalty='l2', random_state=1731, tol=0.0001,\n",
       "     verbose=0)"
      ]
     },
     "execution_count": 5,
     "metadata": {},
     "output_type": "execute_result"
    }
   ],
   "source": [
    "# =====================================\n",
    "# train a classifier for Organism Genus\n",
    "\n",
    "vectorizer = CountVectorizer(ngram_range=(1, 1), min_df=1)\n",
    "X, y, _ = to_X_y(vectorizer, df_organism_genus, \"level_1\")\n",
    "\n",
    "classifier = LinearSVC(random_state=1731, max_iter=10000)\n",
    "classifier.fit(X, y)"
   ]
  },
  {
   "cell_type": "code",
   "execution_count": 6,
   "metadata": {},
   "outputs": [
    {
     "data": {
      "text/plain": [
       "{'*not found': {'*not found'},\n",
       " 'influenza': {'flu a', 'flu b', 'generic flu virus'},\n",
       " 'yersinia': {'yersinia bercovieri',\n",
       "  'yersinia enterocolitica',\n",
       "  'yersinia frederiksenii',\n",
       "  'yersinia intermedia',\n",
       "  'yersinia kristensenii',\n",
       "  'yersinia massiliensis',\n",
       "  'yersinia mollaretii',\n",
       "  'yersinia pseudotuberculosis',\n",
       "  'yersinia rohdei',\n",
       "  'yersinia species'},\n",
       " 'clostridium': {'clostridium aldenense',\n",
       "  'clostridium algidicarnis',\n",
       "  'clostridium bifermentans',\n",
       "  'clostridium bolteae',\n",
       "  'clostridium botulinum',\n",
       "  'clostridium butyricum',\n",
       "  'clostridium cadaveris',\n",
       "  'clostridium celerecrescens',\n",
       "  'clostridium citroniae',\n",
       "  'clostridium clostridioforme',\n",
       "  'clostridium difficile',\n",
       "  'clostridium disporicum',\n",
       "  'clostridium frigidicarnis',\n",
       "  'clostridium glycolicum',\n",
       "  'clostridium hastiforme',\n",
       "  'clostridium hathewayi',\n",
       "  'clostridium hylemonae',\n",
       "  'clostridium innocuum',\n",
       "  'clostridium jejuense',\n",
       "  'clostridium limosum',\n",
       "  'clostridium mangenotii',\n",
       "  'clostridium novyi',\n",
       "  'clostridium orbiscindens',\n",
       "  'clostridium paraputrificum',\n",
       "  'clostridium perfringens',\n",
       "  'clostridium ramosum',\n",
       "  'clostridium rectum',\n",
       "  'clostridium septicum',\n",
       "  'clostridium sordellii',\n",
       "  'clostridium species',\n",
       "  'clostridium sphenoides',\n",
       "  'clostridium sporogenes',\n",
       "  'clostridium subterminale',\n",
       "  'clostridium symbiosum',\n",
       "  'clostridium tertium',\n",
       "  'clostridium tetani',\n",
       "  'clostridium thiosulfatireducens',\n",
       "  'clostridum species'},\n",
       " 'rhinovirus or enterovirus': {'rhinovirus or enterovirus'},\n",
       " 'rhinovirus': {'rhinovirus or enterovirus'},\n",
       " 'enterovirus': {'rhinovirus or enterovirus'},\n",
       " 'bordetella': {'bordetella holmesii',\n",
       "  'bordetella parapertussis',\n",
       "  'bordetella pertussis'},\n",
       " 'chlamydia': {'chlamydia trachomatis'},\n",
       " 'parainfluenza or adenovirus': {'adenovirus',\n",
       "  'parainfluenza',\n",
       "  'parainfluenza or adenovirus'},\n",
       " 'parainfluenza': {'adenovirus',\n",
       "  'parainfluenza',\n",
       "  'parainfluenza or adenovirus'},\n",
       " 'adenovirus': {'adenovirus', 'parainfluenza', 'parainfluenza or adenovirus'},\n",
       " 'respiratory syncytial virus': {'respiratory syncytial virus',\n",
       "  'respiratory syncytial virus a',\n",
       "  'respiratory syncytial virus b'},\n",
       " 'neisseria': {'neisseria gonorrhoeae', 'neisseria meningitidis'},\n",
       " 'herpesvirus': {'herpes simplex virus',\n",
       "  'herpes simplex virus type 1',\n",
       "  'herpes simplex virus type 2',\n",
       "  'human herpes virus type 6',\n",
       "  'human herpes virus type 7',\n",
       "  'human herpes virus type 8'},\n",
       " 'campylobacter': {'arcobacter butzleri',\n",
       "  'arcobacter species',\n",
       "  'campylobacter coli',\n",
       "  'campylobacter concisus',\n",
       "  'campylobacter curvus',\n",
       "  'campylobacter fetus',\n",
       "  'campylobacter gracilis',\n",
       "  'campylobacter hyointestinalis',\n",
       "  'campylobacter insulaenigrae',\n",
       "  'campylobacter jejuni',\n",
       "  'campylobacter lanienae',\n",
       "  'campylobacter lari',\n",
       "  'campylobacter rectus',\n",
       "  'campylobacter showae',\n",
       "  'campylobacter species',\n",
       "  'campylobacter upsaliensis',\n",
       "  'campylobacter ureolyticus',\n",
       "  'helicobacter bilis',\n",
       "  'helicobacter canadensis',\n",
       "  'helicobacter cholecystus',\n",
       "  'helicobacter cinaedi',\n",
       "  'helicobacter pullorum',\n",
       "  'helicobacter species',\n",
       "  'helicobacter winghamensis'},\n",
       " 'shigella': {'shigella boydii',\n",
       "  'shigella dysenteriae',\n",
       "  'shigella flexneri',\n",
       "  'shigella sonnei',\n",
       "  'shigella species'},\n",
       " 'escherichia': {'escherichia albertii',\n",
       "  'escherichia coli',\n",
       "  'escherichia fergusonii',\n",
       "  'escherichia hermannii',\n",
       "  'escherichia species',\n",
       "  'escherichia vulneris'},\n",
       " 'salmonella': {'bongori species', 'enterica species', 'salmonella species'},\n",
       " 'vibrio': {'vibrio alginolyticus',\n",
       "  'vibrio cholerae',\n",
       "  'vibrio fluvialis',\n",
       "  'vibrio furnissii',\n",
       "  'vibrio harveyi',\n",
       "  'vibrio hollisae',\n",
       "  'vibrio mimicus',\n",
       "  'vibrio parahaemolyticus',\n",
       "  'vibrio species',\n",
       "  'vibrio vulnificus'},\n",
       " 'trichomonas': {'trichomonas vaginalis'},\n",
       " 'hepatitis c virus': {'*not further diff',\n",
       "  'hepatitis c virus genotype 1',\n",
       "  'hepatitis c virus genotype 1a',\n",
       "  'hepatitis c virus genotype 1a/1b',\n",
       "  'hepatitis c virus genotype 1b',\n",
       "  'hepatitis c virus genotype 2',\n",
       "  'hepatitis c virus genotype 2a',\n",
       "  'hepatitis c virus genotype 2a/2c',\n",
       "  'hepatitis c virus genotype 2b',\n",
       "  'hepatitis c virus genotype 3',\n",
       "  'hepatitis c virus genotype 3a',\n",
       "  'hepatitis c virus genotype 3b',\n",
       "  'hepatitis c virus genotype 3c',\n",
       "  'hepatitis c virus genotype 3g',\n",
       "  'hepatitis c virus genotype 4',\n",
       "  'hepatitis c virus genotype 4a',\n",
       "  'hepatitis c virus genotype 4a/4c/4d',\n",
       "  'hepatitis c virus genotype 4e',\n",
       "  'hepatitis c virus genotype 4h',\n",
       "  'hepatitis c virus genotype 4o',\n",
       "  'hepatitis c virus genotype 5',\n",
       "  'hepatitis c virus genotype 5a',\n",
       "  'hepatitis c virus genotype 6',\n",
       "  'hepatitis c virus genotype 6a',\n",
       "  'hepatitis c virus genotype 6a/6b',\n",
       "  'hepatitis c virus genotype 6c-6l',\n",
       "  'hepatitis c virus genotype 6w',\n",
       "  'hepatitis c virus genotype mixed',\n",
       "  'hepatitis c virus genotype mixed 1/2',\n",
       "  'hepatitis c virus genotype mixed 1/4'},\n",
       " 'hiv': {'*not further diff', 'hiv-1 virus', 'hiv-2 virus'},\n",
       " 'corynebacterium': {'corynebacterium diphtheriae',\n",
       "  'corynebacterium pseudodiphtheriticum',\n",
       "  'corynebacterium pseudotuberculosis',\n",
       "  'corynebacterium ulcerans'},\n",
       " 'streptococcus': {'streptococcus agalactiae',\n",
       "  'streptococcus pneumoniae',\n",
       "  'streptococcus pyogenes',\n",
       "  'streptococcus pyogenes '},\n",
       " 'haemophilus': {'haemophilus influenzae'},\n",
       " 'listeria': {'listeria innocua',\n",
       "  'listeria monocytogenes',\n",
       "  'listeria species',\n",
       "  'listeria welshimeri'},\n",
       " 'human bocavirus': {'human bocavirus'},\n",
       " 'coronavirus': {'coronavirus'},\n",
       " 'human metapneumovirus': {'human metapneumovirus'},\n",
       " 'treponema': {'treponema pallidum'}}"
      ]
     },
     "metadata": {},
     "output_type": "display_data"
    }
   ],
   "source": [
    "# =============================\n",
    "# train the symbolic classifier\n",
    "\n",
    "dictionary = {}\n",
    "\n",
    "for _, row in df_organism_species.iterrows():\n",
    "    raw_genus_label = row[\"level_1\"]\n",
    "    if raw_genus_label == \"influzena\":\n",
    "        raw_genus_label = \"influenza\"\n",
    "    genus_labels = raw_genus_label.split(\" or \")\n",
    "    \n",
    "    species_label = row[\"level_2\"]\n",
    "    \n",
    "    if raw_genus_label not in dictionary:\n",
    "        dictionary[raw_genus_label] = set()\n",
    "    dictionary[raw_genus_label].add(species_label)\n",
    "    \n",
    "    for genus_label in genus_labels:\n",
    "        if genus_label not in dictionary:\n",
    "            dictionary[genus_label] = set()\n",
    "        dictionary[genus_label].add(species_label)\n",
    "\n",
    "display(dictionary)"
   ]
  },
  {
   "cell_type": "code",
   "execution_count": 7,
   "metadata": {},
   "outputs": [],
   "source": [
    "# =======================\n",
    "# classify the given data\n",
    "\n",
    "def classify_row(row):\n",
    "    document = row[\"result_full_description\"]\n",
    "    X_test = vectorizer.transform([document])\n",
    "    level_1_pred = classifier.predict(X_test)[0]\n",
    "    \n",
    "    if level_1_pred == \"*not found\":\n",
    "        return \"*not found\"\n",
    "    \n",
    "    if level_1_pred not in dictionary:\n",
    "        return \"*no further diff\"\n",
    "    \n",
    "    candidates = load_candidates(row[\"candidates\"])\n",
    "    if not candidates:\n",
    "        return \"*no further diff\"\n",
    "    \n",
    "    for candidate in candidates:\n",
    "        words = candidate.split()\n",
    "        for i in range(len(words), 1 - 1, -1):\n",
    "            level_2 = \" \".join(words[:i])\n",
    "            if level_2 in dictionary[level_1_pred]:\n",
    "                return level_2\n",
    "    \n",
    "    return get_one(candidates)\n",
    "\n",
    "y_pred = df_organism_species.apply(classify_row, axis=1)"
   ]
  },
  {
   "cell_type": "code",
   "execution_count": 8,
   "metadata": {},
   "outputs": [
    {
     "data": {
      "text/plain": [
       "0.6163148292937191"
      ]
     },
     "execution_count": 8,
     "metadata": {},
     "output_type": "execute_result"
    }
   ],
   "source": [
    "y_true = df_organism_species[\"level_2\"]\n",
    "\n",
    "accuracy_score(y_true, y_pred)"
   ]
  },
  {
   "cell_type": "code",
   "execution_count": 9,
   "metadata": {
    "scrolled": true
   },
   "outputs": [
    {
     "data": {
      "text/plain": [
       "169"
      ]
     },
     "metadata": {},
     "output_type": "display_data"
    },
    {
     "name": "stderr",
     "output_type": "stream",
     "text": [
      "C:\\Users\\william.lu\\AppData\\Roaming\\Python\\Python36\\site-packages\\sklearn\\metrics\\classification.py:1143: UndefinedMetricWarning: Precision is ill-defined and being set to 0.0 in labels with no predicted samples.\n",
      "  'precision', 'predicted', average, warn_for)\n"
     ]
    },
    {
     "data": {
      "text/plain": [
       "array([0.99869253, 0.        , 1.        , 1.        , 0.75      ,\n",
       "       0.        , 1.        , 1.        , 0.92733564, 0.94642857,\n",
       "       1.        , 1.        , 1.        , 1.        , 1.        ,\n",
       "       1.        , 0.97701149, 1.        , 1.        , 1.        ,\n",
       "       1.        , 0.21333333, 1.        , 0.        , 0.91891892,\n",
       "       1.        , 1.        , 1.        , 1.        , 0.        ,\n",
       "       1.        , 1.        , 1.        , 1.        , 1.        ,\n",
       "       1.        , 1.        , 1.        , 1.        , 0.        ,\n",
       "       1.        , 1.        , 1.        , 1.        , 1.        ,\n",
       "       1.        , 1.        , 0.        , 1.        , 1.        ,\n",
       "       1.        , 1.        , 1.        , 1.        , 0.57575758,\n",
       "       1.        , 0.75      , 1.        , 1.        , 1.        ,\n",
       "       1.        , 1.        , 0.        , 0.        , 1.        ,\n",
       "       1.        , 0.        , 0.88888889, 0.        , 1.        ,\n",
       "       0.99586777, 1.        , 1.        , 0.        , 1.        ,\n",
       "       0.        , 0.        , 0.        , 0.9947644 , 1.        ,\n",
       "       1.        , 1.        , 1.        , 1.        , 1.        ,\n",
       "       0.66666667, 0.        , 0.        , 0.        , 0.        ,\n",
       "       0.        , 0.        , 0.        , 0.        , 0.        ,\n",
       "       0.        , 0.        , 0.        , 0.        , 0.        ,\n",
       "       0.        , 0.        , 0.        , 0.        , 0.        ,\n",
       "       0.        , 0.        , 0.        , 0.        , 0.        ,\n",
       "       0.        , 0.        , 0.        , 0.        , 0.        ,\n",
       "       0.        , 0.        , 0.        , 0.        , 0.        ,\n",
       "       0.61797753, 0.        , 0.        , 0.        , 0.68939394,\n",
       "       1.        , 1.        , 1.        , 1.        , 0.86666667,\n",
       "       1.        , 0.79508197, 0.        , 0.65942029, 0.        ,\n",
       "       0.66666667, 0.        , 0.14423077, 0.93939394, 0.95652174,\n",
       "       1.        , 0.90697674, 0.23076923, 1.        , 0.99617152,\n",
       "       0.15680246, 0.        , 1.        , 0.        , 1.        ,\n",
       "       1.        , 1.        , 1.        , 1.        , 0.        ,\n",
       "       1.        , 0.91666667, 0.66666667, 1.        , 1.        ,\n",
       "       1.        , 1.        , 1.        , 1.        , 1.        ,\n",
       "       1.        , 1.        , 1.        , 0.6       ])"
      ]
     },
     "metadata": {},
     "output_type": "display_data"
    },
    {
     "data": {
      "text/plain": [
       "array([0.99880135, 0.        , 0.01886792, 1.        , 1.        ,\n",
       "       0.        , 0.2173913 , 0.57142857, 1.        , 0.94642857,\n",
       "       1.        , 0.4       , 0.82352941, 1.        , 0.75      ,\n",
       "       1.        , 0.70247934, 1.        , 0.8       , 0.75      ,\n",
       "       1.        , 0.88888889, 0.66666667, 0.        , 0.27868852,\n",
       "       0.5       , 1.        , 1.        , 0.5       , 0.        ,\n",
       "       1.        , 1.        , 1.        , 1.        , 0.5       ,\n",
       "       0.97222222, 0.33333333, 1.        , 1.        , 0.        ,\n",
       "       1.        , 1.        , 1.        , 1.        , 1.        ,\n",
       "       0.5       , 1.        , 0.        , 1.        , 1.        ,\n",
       "       0.95454545, 1.        , 1.        , 1.        , 1.        ,\n",
       "       1.        , 1.        , 0.5       , 1.        , 1.        ,\n",
       "       0.66666667, 1.        , 0.        , 0.        , 1.        ,\n",
       "       1.        , 0.        , 1.        , 0.        , 1.        ,\n",
       "       0.97808442, 0.66666667, 1.        , 0.        , 1.        ,\n",
       "       0.        , 0.        , 0.        , 0.84821429, 1.        ,\n",
       "       0.85714286, 1.        , 1.        , 1.        , 0.75      ,\n",
       "       1.        , 0.        , 0.        , 0.        , 0.        ,\n",
       "       0.        , 0.        , 0.        , 0.        , 0.        ,\n",
       "       0.        , 0.        , 0.        , 0.        , 0.        ,\n",
       "       0.        , 0.        , 0.        , 0.        , 0.        ,\n",
       "       0.        , 0.        , 0.        , 0.        , 0.        ,\n",
       "       0.        , 0.        , 0.        , 0.        , 0.        ,\n",
       "       0.        , 0.        , 0.        , 0.        , 0.        ,\n",
       "       0.81481481, 0.        , 0.        , 0.        , 0.84259259,\n",
       "       1.        , 1.        , 0.75      , 1.        , 0.64197531,\n",
       "       0.69444444, 0.4092827 , 0.        , 0.76470588, 0.        ,\n",
       "       0.10526316, 0.        , 0.9375    , 0.51666667, 0.59459459,\n",
       "       0.97619048, 1.        , 0.375     , 1.        , 0.9811463 ,\n",
       "       0.98076923, 0.        , 0.53333333, 0.        , 0.83333333,\n",
       "       0.94594595, 1.        , 1.        , 1.        , 0.        ,\n",
       "       1.        , 1.        , 1.        , 1.        , 1.        ,\n",
       "       0.98717949, 1.        , 1.        , 1.        , 1.        ,\n",
       "       1.        , 1.        , 1.        , 1.        ])"
      ]
     },
     "metadata": {},
     "output_type": "display_data"
    }
   ],
   "source": [
    "classes = sorted(y_true.unique().tolist())\n",
    "display(len(classes))\n",
    "\n",
    "precision = precision_score(y_true, y_pred, labels=classes, average=None)\n",
    "display(precision)\n",
    "\n",
    "recall = recall_score(y_true, y_pred, labels=classes, average=None)\n",
    "display(recall)"
   ]
  },
  {
   "cell_type": "code",
   "execution_count": 10,
   "metadata": {},
   "outputs": [
    {
     "data": {
      "image/png": "[encoded data removed]",
      "text/plain": [
       "<Figure size 504x216 with 1 Axes>"
      ]
     },
     "metadata": {
      "needs_background": "light"
     },
     "output_type": "display_data"
    }
   ],
   "source": [
    "plt.figure(figsize=(7, 3))\n",
    "\n",
    "x = list(range(1, len(classes) + 1))\n",
    "height = sorted(precision)\n",
    "\n",
    "plt.bar(x, height, color=\"orange\")\n",
    "\n",
    "plt.xlim(1, len(classes))\n",
    "\n",
    "plt.xlabel(\"Class\")\n",
    "plt.ylabel(\"Precision\")\n",
    "plt.title(\"Organism Species - Class-wise precision\")\n",
    "\n",
    "plt.tight_layout()\n",
    "plt.savefig(\"../figs/os_precision.png\")"
   ]
  },
  {
   "cell_type": "code",
   "execution_count": 11,
   "metadata": {},
   "outputs": [
    {
     "data": {
      "image/png": "[encoded data removed]",
      "text/plain": [
       "<Figure size 504x216 with 1 Axes>"
      ]
     },
     "metadata": {
      "needs_background": "light"
     },
     "output_type": "display_data"
    }
   ],
   "source": [
    "plt.figure(figsize=(7, 3))\n",
    "\n",
    "x = list(range(1, len(classes) + 1))\n",
    "height = sorted(recall)\n",
    "\n",
    "plt.bar(x, height, color=\"orange\")\n",
    "\n",
    "plt.xlim(1, len(classes))\n",
    "\n",
    "plt.xlabel(\"Class\")\n",
    "plt.ylabel(\"Recall\")\n",
    "plt.title(\"Organism Species - Class-wise recall\")\n",
    "\n",
    "plt.tight_layout()\n",
    "plt.savefig(\"../figs/os_recall.png\")"
   ]
  },
  {
   "cell_type": "code",
   "execution_count": 12,
   "metadata": {},
   "outputs": [
    {
     "data": {
      "text/plain": [
       "(array([0.        , 0.14423077, 0.15680246, 0.21333333, 0.23076923,\n",
       "        0.57575758, 0.6       , 0.61797753, 0.65942029, 0.66666667,\n",
       "        0.68939394, 0.75      , 0.79508197, 0.86666667, 0.88888889,\n",
       "        0.90697674, 0.91666667, 0.91891892, 0.92733564, 0.93939394,\n",
       "        0.94642857, 0.95652174, 0.97701149, 0.9947644 , 0.99586777,\n",
       "        0.99617152, 0.99869253, 1.        ]),\n",
       " array([57,  1,  1,  1,  1,  1,  1,  1,  1,  3,  1,  2,  1,  1,  1,  1,  1,\n",
       "         1,  1,  1,  1,  1,  1,  1,  1,  1,  1, 83], dtype=int64))"
      ]
     },
     "execution_count": 12,
     "metadata": {},
     "output_type": "execute_result"
    }
   ],
   "source": [
    "np.unique(precision, return_counts=True)"
   ]
  },
  {
   "cell_type": "code",
   "execution_count": 13,
   "metadata": {},
   "outputs": [
    {
     "data": {
      "text/plain": [
       "(array([0.        , 0.01886792, 0.10526316, 0.2173913 , 0.27868852,\n",
       "        0.33333333, 0.375     , 0.4       , 0.4092827 , 0.5       ,\n",
       "        0.51666667, 0.53333333, 0.57142857, 0.59459459, 0.64197531,\n",
       "        0.66666667, 0.69444444, 0.70247934, 0.75      , 0.76470588,\n",
       "        0.8       , 0.81481481, 0.82352941, 0.83333333, 0.84259259,\n",
       "        0.84821429, 0.85714286, 0.88888889, 0.9375    , 0.94594595,\n",
       "        0.94642857, 0.95454545, 0.97222222, 0.97619048, 0.97808442,\n",
       "        0.98076923, 0.9811463 , 0.98717949, 0.99880135, 1.        ]),\n",
       " array([57,  1,  1,  1,  1,  1,  1,  1,  1,  5,  1,  1,  1,  1,  1,  3,  1,\n",
       "         1,  4,  1,  1,  1,  1,  1,  1,  1,  1,  1,  1,  1,  1,  1,  1,  1,\n",
       "         1,  1,  1,  1,  1, 65], dtype=int64))"
      ]
     },
     "execution_count": 13,
     "metadata": {},
     "output_type": "execute_result"
    }
   ],
   "source": [
    "np.unique(recall, return_counts=True)"
   ]
  },
  {
   "cell_type": "code",
   "execution_count": null,
   "metadata": {},
   "outputs": [],
   "source": []
  }
 ],
 "metadata": {
  "kernelspec": {
   "display_name": "Python 3",
   "language": "python",
   "name": "python3"
  },
  "language_info": {
   "codemirror_mode": {
    "name": "ipython",
    "version": 3
   },
   "file_extension": ".py",
   "mimetype": "text/x-python",
   "name": "python",
   "nbconvert_exporter": "python",
   "pygments_lexer": "ipython3",
   "version": "3.6.5"
  }
 },
 "nbformat": 4,
 "nbformat_minor": 2
}
