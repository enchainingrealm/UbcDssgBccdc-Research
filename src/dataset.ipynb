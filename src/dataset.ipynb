{
 "cells": [
  {
   "cell_type": "code",
   "execution_count": 1,
   "metadata": {},
   "outputs": [],
   "source": [
    "import matplotlib.pyplot as plt\n",
    "import pandas as pd\n",
    "\n",
    "from wordcloud import WordCloud"
   ]
  },
  {
   "cell_type": "code",
   "execution_count": 2,
   "metadata": {},
   "outputs": [],
   "source": [
    "df = pd.read_csv(\"../data/dataset.csv\", na_values=[\"_NULL_\"], keep_default_na=False)"
   ]
  },
  {
   "cell_type": "code",
   "execution_count": 3,
   "metadata": {},
   "outputs": [
    {
     "data": {
      "text/plain": [
       "(362806, 14)"
      ]
     },
     "execution_count": 3,
     "metadata": {},
     "output_type": "execute_result"
    }
   ],
   "source": [
    "df.shape"
   ]
  },
  {
   "cell_type": "code",
   "execution_count": 4,
   "metadata": {},
   "outputs": [
    {
     "data": {
      "text/plain": [
       "362806"
      ]
     },
     "metadata": {},
     "output_type": "display_data"
    },
    {
     "data": {
      "text/plain": [
       "0"
      ]
     },
     "metadata": {},
     "output_type": "display_data"
    }
   ],
   "source": [
    "tp = df[\"test_performed\"].str.lower()\n",
    "\n",
    "display(tp.notna().sum())\n",
    "display(tp.isna().sum())"
   ]
  },
  {
   "cell_type": "code",
   "execution_count": 5,
   "metadata": {},
   "outputs": [
    {
     "data": {
      "text/plain": [
       "yes        340474\n",
       "no          22114\n",
       "pending       218\n",
       "Name: test_performed, dtype: int64"
      ]
     },
     "execution_count": 5,
     "metadata": {},
     "output_type": "execute_result"
    }
   ],
   "source": [
    "tp.value_counts(dropna=True)"
   ]
  },
  {
   "cell_type": "code",
   "execution_count": 6,
   "metadata": {},
   "outputs": [
    {
     "data": {
      "text/plain": [
       "115347"
      ]
     },
     "metadata": {},
     "output_type": "display_data"
    },
    {
     "data": {
      "text/plain": [
       "247459"
      ]
     },
     "metadata": {},
     "output_type": "display_data"
    }
   ],
   "source": [
    "to = df[\"test_outcome\"].str.lower()\n",
    "\n",
    "display(to.notna().sum())\n",
    "display(to.isna().sum())"
   ]
  },
  {
   "cell_type": "code",
   "execution_count": 7,
   "metadata": {},
   "outputs": [
    {
     "data": {
      "text/plain": [
       "*missing         79377\n",
       "positive         19249\n",
       "negative         15268\n",
       "indeterminate     1453\n",
       "Name: test_outcome, dtype: int64"
      ]
     },
     "execution_count": 7,
     "metadata": {},
     "output_type": "execute_result"
    }
   ],
   "source": [
    "to.value_counts(dropna=True)"
   ]
  },
  {
   "cell_type": "code",
   "execution_count": 8,
   "metadata": {},
   "outputs": [
    {
     "data": {
      "text/plain": [
       "40289"
      ]
     },
     "metadata": {},
     "output_type": "display_data"
    },
    {
     "data": {
      "text/plain": [
       "322517"
      ]
     },
     "metadata": {},
     "output_type": "display_data"
    }
   ],
   "source": [
    "l1 = df[\"level_1\"].str.lower()\n",
    "\n",
    "display(l1.notna().sum())\n",
    "display(l1.isna().sum())"
   ]
  },
  {
   "cell_type": "code",
   "execution_count": 9,
   "metadata": {
    "scrolled": true
   },
   "outputs": [
    {
     "data": {
      "text/plain": [
       "29"
      ]
     },
     "metadata": {},
     "output_type": "display_data"
    },
    {
     "data": {
      "text/plain": [
       "*not found                     18354\n",
       "hepatitis c virus               8552\n",
       "streptococcus                   2646\n",
       "*not in hierarchy               1609\n",
       "hiv                             1477\n",
       "salmonella                      1248\n",
       "escherichia                     1245\n",
       "neisseria                        513\n",
       "rhinovirus or enterovirus        466\n",
       "influzena                        398\n",
       "campylobacter                    360\n",
       "parainfluenza or adenovirus      352\n",
       "*not in scope                    310\n",
       "bordetella                       298\n",
       "shigella                         270\n",
       "herpesvirus                      269\n",
       "clostridium                      252\n",
       "chlamydia                        244\n",
       "yersinia                         232\n",
       "haemophilus                      224\n",
       "coronavirus                      192\n",
       "respiratory syncytial virus      158\n",
       "corynebacterium                  151\n",
       "human bocavirus                  135\n",
       "human metapneumovirus            108\n",
       "vibrio                            75\n",
       "listeria                          68\n",
       "treponema                         45\n",
       "trichomonas                       38\n",
       "Name: level_1, dtype: int64"
      ]
     },
     "metadata": {},
     "output_type": "display_data"
    }
   ],
   "source": [
    "display(l1.nunique(dropna=True))\n",
    "display(l1.value_counts(dropna=True))"
   ]
  },
  {
   "cell_type": "code",
   "execution_count": 10,
   "metadata": {
    "scrolled": false
   },
   "outputs": [
    {
     "data": {
      "text/plain": [
       "40289"
      ]
     },
     "metadata": {},
     "output_type": "display_data"
    },
    {
     "data": {
      "text/plain": [
       "322517"
      ]
     },
     "metadata": {},
     "output_type": "display_data"
    }
   ],
   "source": [
    "l2 = df[\"level_2\"].str.lower()\n",
    "\n",
    "display(l2.notna().sum())\n",
    "display(l2.isna().sum())"
   ]
  },
  {
   "cell_type": "code",
   "execution_count": 11,
   "metadata": {
    "scrolled": true
   },
   "outputs": [
    {
     "data": {
      "text/plain": [
       "171"
      ]
     },
     "metadata": {},
     "output_type": "display_data"
    },
    {
     "data": {
      "text/plain": [
       "*not found                   18354\n",
       "*not further diff             8120\n",
       "*not in hierarchy             1609\n",
       "hiv-1 virus                   1473\n",
       "streptococcus pneumoniae      1326\n",
       "escherichia coli              1232\n",
       "enterica species              1230\n",
       "streptococcus pyogenes        1082\n",
       "rhinovirus or enterovirus      466\n",
       "neisseria meningitidis         432\n",
       "Name: level_2, dtype: int64"
      ]
     },
     "metadata": {},
     "output_type": "display_data"
    },
    {
     "data": {
      "text/plain": [
       "hepatitis c virus genotype mixed 1/4    1\n",
       "clostridium rectum                      1\n",
       "clostridium hylemonae                   1\n",
       "yersinia massiliensis                   1\n",
       "hepatitis c virus genotype mixed 1/2    1\n",
       "clostridium novyi                       1\n",
       "human herpes virus type 8               1\n",
       "hepatitis c virus genotype 4o           1\n",
       "escherichia albertii                    1\n",
       "clostridium frigidicarnis               1\n",
       "Name: level_2, dtype: int64"
      ]
     },
     "metadata": {},
     "output_type": "display_data"
    }
   ],
   "source": [
    "display(l2.nunique(dropna=True))\n",
    "display(l2.value_counts(dropna=True).head(n=10))\n",
    "display(l2.value_counts(dropna=True).tail(n=10))"
   ]
  },
  {
   "cell_type": "code",
   "execution_count": 3,
   "metadata": {},
   "outputs": [],
   "source": [
    "text = \" \".join(df[\"result_full_description\"]).lower()\n",
    "\n",
    "word_cloud = WordCloud(stopwords=None, collocations=False, normalize_plurals=False)\n",
    "# stopwords=None causes the built-in STOPWORDS list to be used\n",
    "# collocations=False causes bigrams to be excluded\n",
    "# normalize_plurals=False prevents words ending in \"s\" (such as \"previous\") from being truncated\n",
    "\n",
    "word_dict = word_cloud.process_text(text)"
   ]
  },
  {
   "cell_type": "code",
   "execution_count": 4,
   "metadata": {
    "scrolled": true
   },
   "outputs": [
    {
     "data": {
      "text/plain": [
       "[('specimen', 120782),\n",
       " ('previous', 69247),\n",
       " ('collected', 66048),\n",
       " ('reactive', 65663),\n",
       " ('test', 64213),\n",
       " ('infection', 51743),\n",
       " ('tests', 50817),\n",
       " ('hepatitis', 49629),\n",
       " ('completed', 49165),\n",
       " ('detected', 42269),\n",
       " ('result', 40481),\n",
       " ('performed', 40372),\n",
       " ('immune', 40254),\n",
       " ('may', 37749),\n",
       " ('please', 32125),\n",
       " ('identified', 32111),\n",
       " ('hiv', 31787),\n",
       " ('non', 31020),\n",
       " ('laboratory', 30937),\n",
       " ('ml', 30265),\n",
       " ('vaccination', 30230),\n",
       " ('hcv', 29743),\n",
       " ('interpretation', 29612),\n",
       " ('assay', 28401),\n",
       " ('patient', 28116)]"
      ]
     },
     "metadata": {},
     "output_type": "display_data"
    }
   ],
   "source": [
    "word_list = sorted(word_dict.items(), key=lambda x: x[1], reverse=True)\n",
    "word_list = word_list[:25]\n",
    "\n",
    "display(word_list)"
   ]
  },
  {
   "cell_type": "code",
   "execution_count": 5,
   "metadata": {
    "scrolled": true
   },
   "outputs": [
    {
     "data": {
      "image/png": "[encoded data removed]",
      "text/plain": [
       "<Figure size 720x720 with 1 Axes>"
      ]
     },
     "metadata": {
      "needs_background": "light"
     },
     "output_type": "display_data"
    }
   ],
   "source": [
    "y = [-x for x in range(len(word_list))]\n",
    "width = [x[1] for x in word_list]\n",
    "\n",
    "plt.rcParams[\"figure.figsize\"] = (10, 10)\n",
    "\n",
    "plt.barh(y, width)\n",
    "\n",
    "words = [x[0] for x in word_list]\n",
    "plt.yticks(y, words)\n",
    "\n",
    "plt.xlabel(\"Count\")\n",
    "plt.ylabel(\"Unigram\")\n",
    "plt.title(\"25 most frequent unigrams in RFDs\")\n",
    "\n",
    "plt.tight_layout()\n",
    "plt.savefig(\"../figs/25_most_frequent_unigrams_in_RFDs.png\")"
   ]
  },
  {
   "cell_type": "code",
   "execution_count": null,
   "metadata": {},
   "outputs": [],
   "source": []
  }
 ],
 "metadata": {
  "kernelspec": {
   "display_name": "Python 3",
   "language": "python",
   "name": "python3"
  },
  "language_info": {
   "codemirror_mode": {
    "name": "ipython",
    "version": 3
   },
   "file_extension": ".py",
   "mimetype": "text/x-python",
   "name": "python",
   "nbconvert_exporter": "python",
   "pygments_lexer": "ipython3",
   "version": "3.6.5"
  }
 },
 "nbformat": 4,
 "nbformat_minor": 2
}
