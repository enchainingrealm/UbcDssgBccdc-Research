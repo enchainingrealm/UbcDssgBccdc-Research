{
 "cells": [
  {
   "cell_type": "code",
   "execution_count": 1,
   "metadata": {},
   "outputs": [],
   "source": [
    "import matplotlib.pyplot as plt\n",
    "import pandas as pd\n",
    "\n",
    "from ipynb.fs.full.util import get_one\n",
    "from ipynb.fs.full.util import load_candidates\n",
    "from ipynb.fs.full.util import to_X_y\n",
    "\n",
    "from sklearn.feature_extraction.text import CountVectorizer\n",
    "from sklearn.metrics import accuracy_score\n",
    "from sklearn.metrics import precision_score\n",
    "from sklearn.metrics import recall_score\n",
    "from sklearn.svm import LinearSVC"
   ]
  },
  {
   "cell_type": "code",
   "execution_count": 2,
   "metadata": {},
   "outputs": [],
   "source": [
    "df_result = pd.read_csv(\"../data/dataset_cleaned.csv\", na_values=[\"_NULL_\"], keep_default_na=False)\n",
    "df_metamap = pd.read_csv(\"../data/metamap.csv\", na_values=[\"_NULL_\"], keep_default_na=False)\n",
    "\n",
    "df = pd.merge(df_result, df_metamap, how=\"inner\", on=[\"test_key\", \"result_key\"])"
   ]
  },
  {
   "cell_type": "code",
   "execution_count": 3,
   "metadata": {},
   "outputs": [
    {
     "data": {
      "text/plain": [
       "(115347, 16)"
      ]
     },
     "metadata": {},
     "output_type": "display_data"
    }
   ],
   "source": [
    "df_test_outcome = df[\n",
    "    df[\"test_outcome\"].notna()\n",
    "]\n",
    "\n",
    "display(df_test_outcome.shape)"
   ]
  },
  {
   "cell_type": "code",
   "execution_count": 4,
   "metadata": {},
   "outputs": [
    {
     "data": {
      "text/plain": [
       "(38370, 16)"
      ]
     },
     "metadata": {},
     "output_type": "display_data"
    }
   ],
   "source": [
    "df_organism_genus = df[\n",
    "    df[\"level_1\"].notna()\n",
    "    & (df[\"level_1\"] != \"*not in hierarchy\")\n",
    "    & (df[\"level_1\"] != \"*not in scope\")\n",
    "]\n",
    "\n",
    "display(df_organism_genus.shape)"
   ]
  },
  {
   "cell_type": "code",
   "execution_count": 5,
   "metadata": {},
   "outputs": [
    {
     "data": {
      "text/plain": [
       "LinearSVC(C=1.0, class_weight=None, dual=True, fit_intercept=True,\n",
       "     intercept_scaling=1, loss='squared_hinge', max_iter=10000,\n",
       "     multi_class='ovr', penalty='l2', random_state=1731, tol=0.0001,\n",
       "     verbose=0)"
      ]
     },
     "execution_count": 5,
     "metadata": {},
     "output_type": "execute_result"
    }
   ],
   "source": [
    "# =======================================\n",
    "# train an ML classifier for Test Outcome\n",
    "\n",
    "vectorizer = CountVectorizer(ngram_range=(1, 1), min_df=5)\n",
    "X, y, _ = to_X_y(vectorizer, df_test_outcome, \"test_outcome\")\n",
    "\n",
    "classifier = LinearSVC(random_state=1731, max_iter=10000)\n",
    "classifier.fit(X, y)"
   ]
  },
  {
   "cell_type": "code",
   "execution_count": 6,
   "metadata": {
    "scrolled": true
   },
   "outputs": [
    {
     "data": {
      "text/plain": [
       "{'adenovirus',\n",
       " 'bordetella',\n",
       " 'campylobacter',\n",
       " 'chlamydia',\n",
       " 'clostridium',\n",
       " 'coronavirus',\n",
       " 'corynebacterium',\n",
       " 'enterovirus',\n",
       " 'escherichia',\n",
       " 'haemophilus',\n",
       " 'hepatitis c virus',\n",
       " 'herpesvirus',\n",
       " 'hiv',\n",
       " 'human bocavirus',\n",
       " 'human metapneumovirus',\n",
       " 'influenza',\n",
       " 'listeria',\n",
       " 'neisseria',\n",
       " 'parainfluenza',\n",
       " 'respiratory syncytial virus',\n",
       " 'rhinovirus',\n",
       " 'salmonella',\n",
       " 'shigella',\n",
       " 'streptococcus',\n",
       " 'treponema',\n",
       " 'trichomonas',\n",
       " 'vibrio',\n",
       " 'yersinia'}"
      ]
     },
     "metadata": {},
     "output_type": "display_data"
    }
   ],
   "source": [
    "# =============================\n",
    "# train the symbolic classifier\n",
    "\n",
    "dictionary = set()\n",
    "\n",
    "for raw_label in df_organism_genus[\"level_1\"]:\n",
    "    labels = raw_label.split(\" or \")\n",
    "    dictionary.update(labels)\n",
    "\n",
    "if \"influzena\" in dictionary:\n",
    "    dictionary.remove(\"influzena\")\n",
    "    dictionary.add(\"influenza\")\n",
    "\n",
    "if \"*not found\" in dictionary:\n",
    "    dictionary.remove(\"*not found\")\n",
    "\n",
    "display(dictionary)"
   ]
  },
  {
   "cell_type": "code",
   "execution_count": 7,
   "metadata": {},
   "outputs": [],
   "source": [
    "# =======================\n",
    "# classify the given data\n",
    "\n",
    "def classify_row(row):\n",
    "    document = row[\"result_full_description\"]\n",
    "    X_test = vectorizer.transform([document])\n",
    "    test_outcome_pred = classifier.predict(X_test)[0]\n",
    "    \n",
    "    if test_outcome_pred == \"negative\":\n",
    "        return \"*not found\"\n",
    "    \n",
    "    candidates = load_candidates(row[\"candidates\"])\n",
    "    if not candidates:\n",
    "        return \"*not found\"\n",
    "    \n",
    "    for candidate in candidates:\n",
    "        words = candidate.split()\n",
    "        for i in range(len(words), 1 - 1, -1):\n",
    "            level_1 = \" \".join(words[:i])\n",
    "            if level_1 in dictionary:\n",
    "                return \"influzena\" if level_1 == \"influenza\" else level_1\n",
    "    \n",
    "    return get_one(candidates)\n",
    "\n",
    "y_pred = df_organism_genus.apply(classify_row, axis=1)"
   ]
  },
  {
   "cell_type": "code",
   "execution_count": 8,
   "metadata": {},
   "outputs": [
    {
     "data": {
      "text/plain": [
       "0.8980192859004431"
      ]
     },
     "execution_count": 8,
     "metadata": {},
     "output_type": "execute_result"
    }
   ],
   "source": [
    "y_true = df_organism_genus[\"level_1\"]\n",
    "\n",
    "accuracy_score(y_true, y_pred)"
   ]
  },
  {
   "cell_type": "code",
   "execution_count": 9,
   "metadata": {
    "scrolled": true
   },
   "outputs": [
    {
     "data": {
      "text/plain": [
       "['*not found',\n",
       " 'bordetella',\n",
       " 'campylobacter',\n",
       " 'chlamydia',\n",
       " 'clostridium',\n",
       " 'coronavirus',\n",
       " 'corynebacterium',\n",
       " 'escherichia',\n",
       " 'haemophilus',\n",
       " 'hepatitis c virus',\n",
       " 'herpesvirus',\n",
       " 'hiv',\n",
       " 'human bocavirus',\n",
       " 'human metapneumovirus',\n",
       " 'influzena',\n",
       " 'listeria',\n",
       " 'neisseria',\n",
       " 'parainfluenza or adenovirus',\n",
       " 'respiratory syncytial virus',\n",
       " 'rhinovirus or enterovirus',\n",
       " 'salmonella',\n",
       " 'shigella',\n",
       " 'streptococcus',\n",
       " 'treponema',\n",
       " 'trichomonas',\n",
       " 'vibrio',\n",
       " 'yersinia']"
      ]
     },
     "metadata": {},
     "output_type": "display_data"
    }
   ],
   "source": [
    "classes = sorted(y_true.unique().tolist())\n",
    "display(classes)"
   ]
  },
  {
   "cell_type": "code",
   "execution_count": 10,
   "metadata": {
    "scrolled": false
   },
   "outputs": [
    {
     "name": "stderr",
     "output_type": "stream",
     "text": [
      "C:\\Users\\william.lu\\AppData\\Roaming\\Python\\Python36\\site-packages\\sklearn\\metrics\\classification.py:1143: UndefinedMetricWarning: Precision is ill-defined and being set to 0.0 in labels with no predicted samples.\n",
      "  'precision', 'predicted', average, warn_for)\n"
     ]
    },
    {
     "data": {
      "text/plain": [
       "array([0.88663515, 0.98006645, 0.94094488, 0.7483871 , 0.99576271,\n",
       "       0.        , 1.        , 0.97950378, 0.98678414, 0.95525424,\n",
       "       0.04878049, 0.96653005, 0.73684211, 0.61111111, 0.91596639,\n",
       "       1.        , 0.76498423, 0.        , 0.57142857, 0.        ,\n",
       "       0.96328671, 0.78193146, 0.99924357, 0.96153846, 0.        ,\n",
       "       0.98591549, 0.95209581])"
      ]
     },
     "metadata": {},
     "output_type": "display_data"
    },
    {
     "data": {
      "text/plain": [
       "array([0.95025607, 0.98993289, 0.66388889, 0.47540984, 0.93253968,\n",
       "       0.        , 1.        , 0.72931727, 1.        , 0.98854069,\n",
       "       0.00743494, 0.95802302, 0.20740741, 0.10185185, 0.27386935,\n",
       "       0.98529412, 0.9454191 , 0.        , 0.17721519, 0.        ,\n",
       "       0.88301282, 0.92962963, 0.99848828, 0.55555556, 0.        ,\n",
       "       0.93333333, 0.68534483])"
      ]
     },
     "metadata": {},
     "output_type": "display_data"
    }
   ],
   "source": [
    "precision = precision_score(y_true, y_pred, labels=classes, average=None)\n",
    "display(precision)\n",
    "\n",
    "recall = recall_score(y_true, y_pred, labels=classes, average=None)\n",
    "display(recall)"
   ]
  },
  {
   "cell_type": "code",
   "execution_count": 11,
   "metadata": {},
   "outputs": [
    {
     "data": {
      "image/png": "[encoded data removed]",
      "text/plain": [
       "<Figure size 540x540 with 1 Axes>"
      ]
     },
     "metadata": {
      "needs_background": "light"
     },
     "output_type": "display_data"
    }
   ],
   "source": [
    "plt.figure(figsize=(7.5, 7.5))\n",
    "\n",
    "y = [-x for x in range(len(classes))]\n",
    "width = precision\n",
    "\n",
    "plt.barh(y, width, color=\"orange\")\n",
    "\n",
    "plt.yticks(y, classes)\n",
    "\n",
    "plt.xlabel(\"Precision\")\n",
    "plt.ylabel(\"Class\")\n",
    "plt.title(\"Organism Genus - Class-wise precision (Symbolic)\")\n",
    "\n",
    "plt.tight_layout()\n",
    "plt.savefig(\"../figs/ogs_precision.png\")"
   ]
  },
  {
   "cell_type": "code",
   "execution_count": 12,
   "metadata": {},
   "outputs": [
    {
     "data": {
      "image/png": "[encoded data removed]",
      "text/plain": [
       "<Figure size 540x540 with 1 Axes>"
      ]
     },
     "metadata": {
      "needs_background": "light"
     },
     "output_type": "display_data"
    }
   ],
   "source": [
    "plt.figure(figsize=(7.5, 7.5))\n",
    "\n",
    "y = [-x for x in range(len(classes))]\n",
    "width = recall\n",
    "\n",
    "plt.barh(y, width, color=\"orange\")\n",
    "\n",
    "plt.yticks(y, classes)\n",
    "\n",
    "plt.xlabel(\"Recall\")\n",
    "plt.ylabel(\"Class\")\n",
    "plt.title(\"Organism Genus - Class-wise recall (Symbolic)\")\n",
    "\n",
    "plt.tight_layout()\n",
    "plt.savefig(\"../figs/ogs_recall.png\")"
   ]
  },
  {
   "cell_type": "code",
   "execution_count": null,
   "metadata": {},
   "outputs": [],
   "source": []
  }
 ],
 "metadata": {
  "kernelspec": {
   "display_name": "Python 3",
   "language": "python",
   "name": "python3"
  },
  "language_info": {
   "codemirror_mode": {
    "name": "ipython",
    "version": 3
   },
   "file_extension": ".py",
   "mimetype": "text/x-python",
   "name": "python",
   "nbconvert_exporter": "python",
   "pygments_lexer": "ipython3",
   "version": "3.6.5"
  }
 },
 "nbformat": 4,
 "nbformat_minor": 2
}
