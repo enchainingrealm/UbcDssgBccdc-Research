{
 "cells": [
  {
   "cell_type": "code",
   "execution_count": 1,
   "metadata": {},
   "outputs": [],
   "source": [
    "import pyodbc\n",
    "\n",
    "import pandas as pd"
   ]
  },
  {
   "cell_type": "code",
   "execution_count": 2,
   "metadata": {},
   "outputs": [],
   "source": [
    "server = \"SDDBSBI002\"\n",
    "database = \"DSSG\"\n",
    "\n",
    "db_string = \"DRIVER={ODBC Driver 13 for SQL Server};\" + \\\n",
    "            \"Trusted_connection=yes;\" + \\\n",
    "            f\"SERVER={server};\" + \\\n",
    "            f\"DATABASE={database}\"\n",
    "\n",
    "connection = pyodbc.connect(db_string)"
   ]
  },
  {
   "cell_type": "code",
   "execution_count": 2,
   "metadata": {},
   "outputs": [],
   "source": [
    "results_sql = \"\"\"\n",
    "SELECT *\n",
    "FROM lab.dim_test_result_output_v1 AS table_0\n",
    "WHERE result_full_description IS NOT NULL\n",
    "    AND result_full_description <> ''\n",
    "    AND ISNUMERIC(result_full_description) <> 1\n",
    "    AND NOT EXISTS (\n",
    "        SELECT DISTINCT DTR.test_key, DTR.result_key\n",
    "        FROM lab.dim_test_result DTR, lab.brg_result BR, lab.dim_result_hub DRH\n",
    "        WHERE DTR.result_key = BR.result_key\n",
    "            AND BR.result_hub_key = DRH.result_hub_key\n",
    "            AND (DRH.result_code = 'PROF'\n",
    "                OR DRH.result_code = 'PROTR'\n",
    "                OR DRH.result_description LIKE '%proficiency%')\n",
    "            AND DTR.test_key = table_0.test_key\n",
    "            AND DTR.result_key = table_0.result_key\n",
    "    )\n",
    "\"\"\""
   ]
  },
  {
   "cell_type": "code",
   "execution_count": 3,
   "metadata": {},
   "outputs": [],
   "source": [
    "df_results = pd.read_sql(results_sql, connection)\n",
    "df_results.to_csv(\"../data/dataset.csv\", na_rep=\"_NULL_\", index=False)"
   ]
  },
  {
   "cell_type": "code",
   "execution_count": 3,
   "metadata": {},
   "outputs": [],
   "source": [
    "metamap_sql = \"\"\"\n",
    "SELECT *\n",
    "FROM dbo.metamap\n",
    "\"\"\""
   ]
  },
  {
   "cell_type": "code",
   "execution_count": 4,
   "metadata": {},
   "outputs": [],
   "source": [
    "df_metamap = pd.read_sql(metamap_sql, connection)\n",
    "df_metamap.to_csv(\"../data/metamap.csv\", na_rep=\"_NULL_\", index=False)"
   ]
  },
  {
   "cell_type": "code",
   "execution_count": 5,
   "metadata": {},
   "outputs": [],
   "source": [
    "connection.close()"
   ]
  },
  {
   "cell_type": "code",
   "execution_count": null,
   "metadata": {},
   "outputs": [],
   "source": []
  }
 ],
 "metadata": {
  "kernelspec": {
   "display_name": "Python 3",
   "language": "python",
   "name": "python3"
  },
  "language_info": {
   "codemirror_mode": {
    "name": "ipython",
    "version": 3
   },
   "file_extension": ".py",
   "mimetype": "text/x-python",
   "name": "python",
   "nbconvert_exporter": "python",
   "pygments_lexer": "ipython3",
   "version": "3.6.5"
  }
 },
 "nbformat": 4,
 "nbformat_minor": 2
}
